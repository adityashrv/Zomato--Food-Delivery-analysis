{
 "cells": [
  {
   "cell_type": "code",
   "execution_count": 1,
   "metadata": {},
   "outputs": [],
   "source": [
    "import pandas as pd\n",
    "import re\n",
    "import requests\n",
    "from bs4 import BeautifulSoup\n",
    "from selenium import webdriver\n",
    "from selenium.webdriver.common.keys import Keys\n",
    "from selenium.webdriver.common.by import By\n",
    "import time\n",
    "from geopy.exc import GeocoderTimedOut\n",
    "from geopy.geocoders import Nominatim\n",
    "import numpy as np"
   ]
  },
  {
   "cell_type": "code",
   "execution_count": 15,
   "metadata": {},
   "outputs": [],
   "source": [
    "url ='https://www.zomato.com/bangalore/'\n",
    "driver = webdriver.Firefox()\n",
    "driver.get(url)"
   ]
  },
  {
   "cell_type": "code",
   "execution_count": 6,
   "metadata": {},
   "outputs": [],
   "source": [
    "soup = BeautifulSoup(driver.page_source,\"html.parser\")"
   ]
  },
  {
   "cell_type": "code",
   "execution_count": 7,
   "metadata": {},
   "outputs": [
    {
     "name": "stdout",
     "output_type": "stream",
     "text": [
      "29\n"
     ]
    }
   ],
   "source": [
    "locationlist = []\n",
    "for link in soup.find_all('a', href = True):\n",
    "    if 'https://www.zomato.com/bangalore/' in link['href']:\n",
    "        locationlist.append(link['href'])\n",
    "print(len(locationlist))"
   ]
  },
  {
   "cell_type": "code",
   "execution_count": 16,
   "metadata": {},
   "outputs": [],
   "source": [
    "link = []\n",
    "for i in locationlist:\n",
    "    driver.get(i)\n",
    "    driver.maximize_window()\n",
    "    driver.execute_script(\"window.scrollBy(0,2500)\",\"\")\n",
    "    time.sleep(10)\n",
    "    \n",
    "    links = driver.find_elements('tag name','a')\n",
    "    for i in links:\n",
    "        link.append(i.get_attribute('href'))"
   ]
  },
  {
   "cell_type": "code",
   "execution_count": 17,
   "metadata": {},
   "outputs": [],
   "source": [
    "href=[]\n",
    "for i in link:\n",
    "    try:\n",
    "        if 'order' in i:\n",
    "            href.append(i)\n",
    "    except:\n",
    "        pass"
   ]
  },
  {
   "cell_type": "code",
   "execution_count": 18,
   "metadata": {},
   "outputs": [
    {
     "name": "stdout",
     "output_type": "stream",
     "text": [
      "134\n"
     ]
    }
   ],
   "source": [
    "final_href = set(href)\n",
    "print(len(final_href))"
   ]
  },
  {
   "cell_type": "code",
   "execution_count": null,
   "metadata": {},
   "outputs": [],
   "source": [
    "href_new=[]\n",
    "for i in final_href:\n",
    "    try:\n",
    "        if 'order' in i:\n",
    "            href_new.append(i)\n",
    "    except:\n",
    "        pass"
   ]
  },
  {
   "cell_type": "code",
   "execution_count": null,
   "metadata": {},
   "outputs": [],
   "source": [
    "print(len(href_new))"
   ]
  },
  {
   "cell_type": "code",
   "execution_count": null,
   "metadata": {},
   "outputs": [],
   "source": [
    "name=[]\n",
    "rating=[]\n",
    "cusines=[]\n",
    "location=[]\n",
    "delivery_review_number=[]\n",
    "count = 0\n",
    "for i in href_new:\n",
    "    count+=1\n",
    "    print(count,end=\" \")\n",
    "    headers={'User-Agent':'Mozilla/5.0 (Windows NT 6.3; Win 64 ; x64) Apple WeKit /537.36(KHTML , like Gecko) Chrome/80.0.3987.162 Safari/537.36'}\n",
    "    r=requests.get(i,headers=headers).text\n",
    "    sou = BeautifulSoup(r, 'lxml')\n",
    "    try:\n",
    "        j = sou.find_all(\"h1\",{\"class\" : \"sc-7kepeu-0 sc-eilVRo eAhpQG\"})\n",
    "        name.append(j[0].text)\n",
    "    except:\n",
    "        name.append('NA')\n",
    "    try:\n",
    "        j = sou.find_all(\"div\",{\"class\" : \"sc-1q7bklc-1 cILgox\"})\n",
    "        rating.append(j[1].text)\n",
    "    except:\n",
    "        rating.append('NA')\n",
    "    \n",
    "    try:\n",
    "        j = sou.find_all(\"div\",{\"class\" : \"sc-eMigcr fAGAHS\"})\n",
    "        cusines.append(j[0].text)\n",
    "    except:\n",
    "        cusines.append('NA')\n",
    "    try:\n",
    "        j = sou.find_all(\"a\",{\"class\" : \"sc-cpmLhU fDVcNc\"})\n",
    "        location.append(j[0].text)\n",
    "    except:\n",
    "        location.append('NA')\n",
    "\n",
    "    try:\n",
    "        j = sou.find_all(\"div\",{\"class\" : \"sc-1q7bklc-8 kEgyiI\"})\n",
    "        delivery_review_number.append(j[1].text)\n",
    "    except:\n",
    "        delivery_review_number.append('NA')\n",
    "    \n",
    "    "
   ]
  },
  {
   "cell_type": "code",
   "execution_count": null,
   "metadata": {},
   "outputs": [],
   "source": [
    "col=['name','rating','cusines','delivery_review_number','location']\n",
    "df=pd.DataFrame({'Name': name,'Rating':rating,'cusines':cusines,'delivery_review_number':delivery_review_number,'location':location})\n",
    "df"
   ]
  },
  {
   "cell_type": "code",
   "execution_count": null,
   "metadata": {},
   "outputs": [],
   "source": [
    "longitude = []\n",
    "latitude = []\n",
    "   \n",
    "# function to find the coordinate\n",
    "# of a given city \n",
    "def findGeocode(location): \n",
    "    try:\n",
    "        geolocator = Nominatim(user_agent=\"chrome\")\n",
    "          \n",
    "        return geolocator.geocode(location)\n",
    "      \n",
    "    except GeocoderTimedOut:\n",
    "          \n",
    "        return findGeocode(location)  \n",
    "for i in (df[\"location\"]):\n",
    "      \n",
    "    if findGeocode(i) != None:\n",
    "           \n",
    "        loc = findGeocode(i)\n",
    "        latitude.append(loc.latitude)\n",
    "        longitude.append(loc.longitude)\n",
    "\n",
    "    else:\n",
    "        latitude.append(np.nan)\n",
    "        longitude.append(np.nan)"
   ]
  },
  {
   "cell_type": "code",
   "execution_count": null,
   "metadata": {},
   "outputs": [],
   "source": [
    "df[\"Longitude\"] = longitude\n",
    "df[\"Latitude\"] = latitude"
   ]
  },
  {
   "cell_type": "code",
   "execution_count": null,
   "metadata": {},
   "outputs": [],
   "source": [
    "df[\"Restaurant_link\"]  = href_new"
   ]
  },
  {
   "cell_type": "code",
   "execution_count": null,
   "metadata": {},
   "outputs": [],
   "source": [
    "df.to_csv(r\"C:\\Users\\Vaishali Tomar\\Desktop\\resume\\zomato_1.csv\")"
   ]
  },
  {
   "cell_type": "code",
   "execution_count": null,
   "metadata": {},
   "outputs": [],
   "source": [
    "restaurant_name = []\n",
    "dish_name = []\n",
    "dish_price = []\n",
    "\n",
    "count = 0\n",
    "\n",
    "for i in href_new :\n",
    "    count+=1\n",
    "    print(count,end=\" \")\n",
    "    headers={'User-Agent':'Mozilla/5.0 (Windows NT 6.3; Win 64 ; x64) Apple WeKit /537.36(KHTML , like Gecko) Chrome/80.0.3987.162 Safari/537.36'}\n",
    "    r=requests.get(i,headers=headers).text\n",
    "    sou = BeautifulSoup(r, 'lxml')\n",
    "    for i in range(10):\n",
    "        try:\n",
    "            j = sou.find_all(\"h4\",{\"class\" : \"sc-1s0saks-15 iSmBPS\"})\n",
    "            dish_name.append(j[i].text)\n",
    "        except:\n",
    "            dish_name.append('NA')\n",
    "        try:\n",
    "            j = sou.find_all(\"span\",{\"class\" : \"sc-17hyc2s-1 cCiQWA\"})\n",
    "            dish_price.append(j[i].text)\n",
    "        except:\n",
    "            dish_price.append('NA')\n",
    "        try:\n",
    "            j = sou.find_all(\"h1\",{\"class\" : \"sc-7kepeu-0 sc-eilVRo eAhpQG\"})#sc-7kepeu-0 sc-eilVRo eAhpQG\n",
    "            restaurant_name.append(j[0].text)\n",
    "        except:\n",
    "            restaurant_name.append('NA')\n",
    "\n",
    "        \n"
   ]
  },
  {
   "cell_type": "code",
   "execution_count": null,
   "metadata": {},
   "outputs": [],
   "source": [
    "col=['restaurant_name','dish_name','cusines','dish_price']\n",
    "df1=pd.DataFrame({'restaurant_name': restaurant_name,'dish_name':dish_name,'dish_price':dish_price})\n",
    "df1"
   ]
  },
  {
   "cell_type": "code",
   "execution_count": null,
   "metadata": {},
   "outputs": [],
   "source": [
    "df1.to_csv(r\"C:\\Users\\Vaishali Tomar\\Desktop\\resume\\zomato_2.csv\")"
   ]
  }
 ],
 "metadata": {
  "kernelspec": {
   "display_name": "Python 3.9.12 ('base')",
   "language": "python",
   "name": "python3"
  },
  "language_info": {
   "codemirror_mode": {
    "name": "ipython",
    "version": 3
   },
   "file_extension": ".py",
   "mimetype": "text/x-python",
   "name": "python",
   "nbconvert_exporter": "python",
   "pygments_lexer": "ipython3",
   "version": "3.9.12"
  },
  "orig_nbformat": 4,
  "vscode": {
   "interpreter": {
    "hash": "043f2b5a1970a131d06754b308e1494d14bec9888fec20f91acc177f4f73a177"
   }
  }
 },
 "nbformat": 4,
 "nbformat_minor": 2
}
