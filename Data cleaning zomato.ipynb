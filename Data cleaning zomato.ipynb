{
 "cells": [
  {
   "cell_type": "code",
   "execution_count": 1,
   "id": "ce625dd0",
   "metadata": {},
   "outputs": [],
   "source": [
    "import pandas as pd"
   ]
  },
  {
   "cell_type": "code",
   "execution_count": 2,
   "id": "2cad2661",
   "metadata": {},
   "outputs": [],
   "source": [
    "df= pd.read_excel('abc.xlsx')"
   ]
  },
  {
   "cell_type": "code",
   "execution_count": 13,
   "id": "f6fbcbe2",
   "metadata": {},
   "outputs": [
    {
     "data": {
      "text/html": [
       "<div>\n",
       "<style scoped>\n",
       "    .dataframe tbody tr th:only-of-type {\n",
       "        vertical-align: middle;\n",
       "    }\n",
       "\n",
       "    .dataframe tbody tr th {\n",
       "        vertical-align: top;\n",
       "    }\n",
       "\n",
       "    .dataframe thead th {\n",
       "        text-align: right;\n",
       "    }\n",
       "</style>\n",
       "<table border=\"1\" class=\"dataframe\">\n",
       "  <thead>\n",
       "    <tr style=\"text-align: right;\">\n",
       "      <th></th>\n",
       "      <th>Restaurant_id</th>\n",
       "      <th>Name</th>\n",
       "      <th>Rating</th>\n",
       "      <th>cusines</th>\n",
       "      <th>delivery_review_number</th>\n",
       "      <th>location</th>\n",
       "      <th>Longitude</th>\n",
       "      <th>Latitude</th>\n",
       "      <th>Restaurant_link</th>\n",
       "    </tr>\n",
       "  </thead>\n",
       "  <tbody>\n",
       "    <tr>\n",
       "      <th>0</th>\n",
       "      <td>0</td>\n",
       "      <td>Empire Restaurant</td>\n",
       "      <td>3.9</td>\n",
       "      <td>North Indian, Biryani, Kebab, Chinese, South I...</td>\n",
       "      <td>48100</td>\n",
       "      <td>JP Nagar, Bangalore</td>\n",
       "      <td>77.578271</td>\n",
       "      <td>12.907251</td>\n",
       "      <td>https://www.zomato.com/bangalore/empire-restau...</td>\n",
       "    </tr>\n",
       "    <tr>\n",
       "      <th>1</th>\n",
       "      <td>1</td>\n",
       "      <td>Faasos - Wraps &amp; Rolls</td>\n",
       "      <td>4.0</td>\n",
       "      <td>Rolls, Wraps, Fast Food</td>\n",
       "      <td>10300</td>\n",
       "      <td>BTM, Bangalore</td>\n",
       "      <td>77.604565</td>\n",
       "      <td>12.911276</td>\n",
       "      <td>https://www.zomato.com/bangalore/faasos-wraps-...</td>\n",
       "    </tr>\n",
       "    <tr>\n",
       "      <th>2</th>\n",
       "      <td>2</td>\n",
       "      <td>Mini Punjab</td>\n",
       "      <td>3.6</td>\n",
       "      <td>North Indian, Chinese</td>\n",
       "      <td>795</td>\n",
       "      <td>Bellandur, Bangalore</td>\n",
       "      <td>77.678247</td>\n",
       "      <td>12.931032</td>\n",
       "      <td>https://www.zomato.com/bangalore/mini-punjab-b...</td>\n",
       "    </tr>\n",
       "    <tr>\n",
       "      <th>3</th>\n",
       "      <td>3</td>\n",
       "      <td>Keventers Ice Cream</td>\n",
       "      <td>4.1</td>\n",
       "      <td>Ice Cream, Desserts, Shake, Beverages</td>\n",
       "      <td>16</td>\n",
       "      <td>Kalyan Nagar, Bangalore</td>\n",
       "      <td>77.640337</td>\n",
       "      <td>13.022142</td>\n",
       "      <td>https://www.zomato.com/bangalore/keventers-ice...</td>\n",
       "    </tr>\n",
       "    <tr>\n",
       "      <th>4</th>\n",
       "      <td>4</td>\n",
       "      <td>Chinese Wok</td>\n",
       "      <td>3.7</td>\n",
       "      <td>Chinese, Momos, Sichuan</td>\n",
       "      <td>872</td>\n",
       "      <td>Kalyan Nagar, Bangalore</td>\n",
       "      <td>77.640337</td>\n",
       "      <td>13.022142</td>\n",
       "      <td>https://www.zomato.com/bangalore/chinese-wok-k...</td>\n",
       "    </tr>\n",
       "    <tr>\n",
       "      <th>...</th>\n",
       "      <td>...</td>\n",
       "      <td>...</td>\n",
       "      <td>...</td>\n",
       "      <td>...</td>\n",
       "      <td>...</td>\n",
       "      <td>...</td>\n",
       "      <td>...</td>\n",
       "      <td>...</td>\n",
       "      <td>...</td>\n",
       "    </tr>\n",
       "    <tr>\n",
       "      <th>562</th>\n",
       "      <td>562</td>\n",
       "      <td>La Pino'z Pizza</td>\n",
       "      <td>3.8</td>\n",
       "      <td>Pizza, Italian, Pasta, Fast Food</td>\n",
       "      <td>1088</td>\n",
       "      <td>Indiranagar, Bangalore</td>\n",
       "      <td>77.640467</td>\n",
       "      <td>12.973291</td>\n",
       "      <td>https://www.zomato.com/bangalore/la-pinoz-pizz...</td>\n",
       "    </tr>\n",
       "    <tr>\n",
       "      <th>563</th>\n",
       "      <td>563</td>\n",
       "      <td>Frozen Bottle - Milkshakes, Desserts And Ice C...</td>\n",
       "      <td>4.2</td>\n",
       "      <td>Beverages, Desserts, Ice Cream, Waffle, Bakery...</td>\n",
       "      <td>2444</td>\n",
       "      <td>Basaveshwara Nagar, Bangalore</td>\n",
       "      <td>77.539475</td>\n",
       "      <td>12.993161</td>\n",
       "      <td>https://www.zomato.com/bangalore/frozen-bottle...</td>\n",
       "    </tr>\n",
       "    <tr>\n",
       "      <th>564</th>\n",
       "      <td>564</td>\n",
       "      <td>Empire Restaurant</td>\n",
       "      <td>4.1</td>\n",
       "      <td>North Indian, Biryani, Kebab, Chinese, Beverages</td>\n",
       "      <td>11500</td>\n",
       "      <td>Banashankari, Bangalore</td>\n",
       "      <td>77.594452</td>\n",
       "      <td>12.965283</td>\n",
       "      <td>https://www.zomato.com/bangalore/empire-restau...</td>\n",
       "    </tr>\n",
       "    <tr>\n",
       "      <th>565</th>\n",
       "      <td>565</td>\n",
       "      <td>Leon's Burgers &amp; Wings</td>\n",
       "      <td>4.2</td>\n",
       "      <td>Burger, Fast Food, Wraps, Street Food, Dessert...</td>\n",
       "      <td>6155</td>\n",
       "      <td>Bommanahalli, Bangalore</td>\n",
       "      <td>77.623904</td>\n",
       "      <td>12.908945</td>\n",
       "      <td>https://www.zomato.com/bangalore/leons-burgers...</td>\n",
       "    </tr>\n",
       "    <tr>\n",
       "      <th>566</th>\n",
       "      <td>566</td>\n",
       "      <td>KFC</td>\n",
       "      <td>3.5</td>\n",
       "      <td>Burger, Fast Food, Biryani, Desserts, Beverages</td>\n",
       "      <td>8300</td>\n",
       "      <td>Ascendas Park Square, Whitefield, Bangalore</td>\n",
       "      <td>77.626163</td>\n",
       "      <td>12.951399</td>\n",
       "      <td>https://www.zomato.com/bangalore/kfc-3-whitefi...</td>\n",
       "    </tr>\n",
       "  </tbody>\n",
       "</table>\n",
       "<p>567 rows × 9 columns</p>\n",
       "</div>"
      ],
      "text/plain": [
       "     Restaurant_id                                               Name  Rating  \\\n",
       "0                0                                  Empire Restaurant     3.9   \n",
       "1                1                             Faasos - Wraps & Rolls     4.0   \n",
       "2                2                                        Mini Punjab     3.6   \n",
       "3                3                                Keventers Ice Cream     4.1   \n",
       "4                4                                        Chinese Wok     3.7   \n",
       "..             ...                                                ...     ...   \n",
       "562            562                                    La Pino'z Pizza     3.8   \n",
       "563            563  Frozen Bottle - Milkshakes, Desserts And Ice C...     4.2   \n",
       "564            564                                  Empire Restaurant     4.1   \n",
       "565            565                             Leon's Burgers & Wings     4.2   \n",
       "566            566                                                KFC     3.5   \n",
       "\n",
       "                                               cusines  \\\n",
       "0    North Indian, Biryani, Kebab, Chinese, South I...   \n",
       "1                              Rolls, Wraps, Fast Food   \n",
       "2                                North Indian, Chinese   \n",
       "3                Ice Cream, Desserts, Shake, Beverages   \n",
       "4                              Chinese, Momos, Sichuan   \n",
       "..                                                 ...   \n",
       "562                   Pizza, Italian, Pasta, Fast Food   \n",
       "563  Beverages, Desserts, Ice Cream, Waffle, Bakery...   \n",
       "564   North Indian, Biryani, Kebab, Chinese, Beverages   \n",
       "565  Burger, Fast Food, Wraps, Street Food, Dessert...   \n",
       "566    Burger, Fast Food, Biryani, Desserts, Beverages   \n",
       "\n",
       "     delivery_review_number                                     location  \\\n",
       "0                     48100                          JP Nagar, Bangalore   \n",
       "1                     10300                               BTM, Bangalore   \n",
       "2                       795                         Bellandur, Bangalore   \n",
       "3                        16                      Kalyan Nagar, Bangalore   \n",
       "4                       872                      Kalyan Nagar, Bangalore   \n",
       "..                      ...                                          ...   \n",
       "562                    1088                       Indiranagar, Bangalore   \n",
       "563                    2444                Basaveshwara Nagar, Bangalore   \n",
       "564                   11500                      Banashankari, Bangalore   \n",
       "565                    6155                      Bommanahalli, Bangalore   \n",
       "566                    8300  Ascendas Park Square, Whitefield, Bangalore   \n",
       "\n",
       "     Longitude   Latitude                                    Restaurant_link  \n",
       "0    77.578271  12.907251  https://www.zomato.com/bangalore/empire-restau...  \n",
       "1    77.604565  12.911276  https://www.zomato.com/bangalore/faasos-wraps-...  \n",
       "2    77.678247  12.931032  https://www.zomato.com/bangalore/mini-punjab-b...  \n",
       "3    77.640337  13.022142  https://www.zomato.com/bangalore/keventers-ice...  \n",
       "4    77.640337  13.022142  https://www.zomato.com/bangalore/chinese-wok-k...  \n",
       "..         ...        ...                                                ...  \n",
       "562  77.640467  12.973291  https://www.zomato.com/bangalore/la-pinoz-pizz...  \n",
       "563  77.539475  12.993161  https://www.zomato.com/bangalore/frozen-bottle...  \n",
       "564  77.594452  12.965283  https://www.zomato.com/bangalore/empire-restau...  \n",
       "565  77.623904  12.908945  https://www.zomato.com/bangalore/leons-burgers...  \n",
       "566  77.626163  12.951399  https://www.zomato.com/bangalore/kfc-3-whitefi...  \n",
       "\n",
       "[567 rows x 9 columns]"
      ]
     },
     "execution_count": 13,
     "metadata": {},
     "output_type": "execute_result"
    }
   ],
   "source": [
    "df"
   ]
  },
  {
   "cell_type": "code",
   "execution_count": 12,
   "id": "fea4a623",
   "metadata": {},
   "outputs": [
    {
     "data": {
      "text/plain": [
       "Restaurant_id               int64\n",
       "Name                       object\n",
       "Rating                    float64\n",
       "cusines                    object\n",
       "delivery_review_number      int64\n",
       "location                   object\n",
       "Longitude                 float64\n",
       "Latitude                  float64\n",
       "Restaurant_link            object\n",
       "dtype: object"
      ]
     },
     "execution_count": 12,
     "metadata": {},
     "output_type": "execute_result"
    }
   ],
   "source": [
    "df.dtypes"
   ]
  },
  {
   "cell_type": "code",
   "execution_count": 5,
   "id": "54b314b6",
   "metadata": {},
   "outputs": [
    {
     "data": {
      "text/plain": [
       "Index(['Restaurant_id', 'Name', 'Rating', 'cusines', 'delivery_review_number',\n",
       "       'location', 'Longitude', 'Latitude', 'Restaurant_link'],\n",
       "      dtype='object')"
      ]
     },
     "execution_count": 5,
     "metadata": {},
     "output_type": "execute_result"
    }
   ],
   "source": [
    "df.columns"
   ]
  },
  {
   "cell_type": "code",
   "execution_count": 28,
   "id": "94e39b3c",
   "metadata": {},
   "outputs": [
    {
     "data": {
      "text/plain": [
       "Restaurant_id             0\n",
       "Name                      0\n",
       "Rating                    0\n",
       "cusines                   0\n",
       "delivery_review_number    0\n",
       "location                  0\n",
       "Longitude                 0\n",
       "Latitude                  0\n",
       "Restaurant_link           0\n",
       "dtype: int64"
      ]
     },
     "execution_count": 28,
     "metadata": {},
     "output_type": "execute_result"
    }
   ],
   "source": [
    "df.isnull().sum()"
   ]
  },
  {
   "cell_type": "code",
   "execution_count": 27,
   "id": "c95fddc4",
   "metadata": {},
   "outputs": [],
   "source": [
    "df['Rating'].fillna(df['Rating'].mean(),inplace=True)"
   ]
  },
  {
   "cell_type": "code",
   "execution_count": 11,
   "id": "428069de",
   "metadata": {},
   "outputs": [],
   "source": [
    "df[\"Rating\"]=pd.to_numeric(df[\"Rating\"],errors=\"coerce\")"
   ]
  },
  {
   "cell_type": "code",
   "execution_count": 14,
   "id": "af5d4e89",
   "metadata": {},
   "outputs": [],
   "source": [
    "col= ['Restaurant_id', 'Name', 'Rating', 'cusines', 'delivery_review_number',\n",
    "       'location', 'Longitude', 'Latitude', 'Restaurant_link']\n",
    "for i in col:\n",
    "    print(df[i].value_counts()"
   ]
  },
  {
   "cell_type": "code",
   "execution_count": 23,
   "id": "55fd2118",
   "metadata": {},
   "outputs": [
    {
     "data": {
      "text/plain": [
       "https://www.zomato.com/bangalore/empire-restaurant-jp-nagar/order                      1\n",
       "https://www.zomato.com/bangalore/ovenstory-pizza-banashankari/order                    1\n",
       "https://www.zomato.com/bangalore/imperio-restaurant-1-new-bel-road-bangalore/order     1\n",
       "https://www.zomato.com/bangalore/ande-ka-funda-2-marathahalli/order                    1\n",
       "https://www.zomato.com/bangalore/sharief-bhai-1-koramangala-5th-block/order            1\n",
       "                                                                                      ..\n",
       "https://www.zomato.com/bangalore/lassi-shop-6-btm-bangalore/order                      1\n",
       "https://www.zomato.com/bangalore/box8-desi-meals-btm-bangalore/order                   1\n",
       "https://www.zomato.com/bangalore/box8-desi-meals-1-marathahalli-bangalore/order        1\n",
       "https://www.zomato.com/bangalore/the-biryani-life-bannerghatta-road-bangalore/order    1\n",
       "https://www.zomato.com/bangalore/kfc-3-whitefield/order                                1\n",
       "Name: Restaurant_link, Length: 567, dtype: int64"
      ]
     },
     "execution_count": 23,
     "metadata": {},
     "output_type": "execute_result"
    }
   ],
   "source": [
    "df['Restaurant_link'].value_counts()"
   ]
  },
  {
   "cell_type": "code",
   "execution_count": 29,
   "id": "06a824db",
   "metadata": {},
   "outputs": [],
   "source": [
    "df.to_csv(r'D:\\zomato_project\\zomato1.csv')"
   ]
  },
  {
   "cell_type": "code",
   "execution_count": null,
   "id": "cff6983e",
   "metadata": {},
   "outputs": [],
   "source": []
  }
 ],
 "metadata": {
  "kernelspec": {
   "display_name": "Python 3 (ipykernel)",
   "language": "python",
   "name": "python3"
  },
  "language_info": {
   "codemirror_mode": {
    "name": "ipython",
    "version": 3
   },
   "file_extension": ".py",
   "mimetype": "text/x-python",
   "name": "python",
   "nbconvert_exporter": "python",
   "pygments_lexer": "ipython3",
   "version": "3.9.12"
  }
 },
 "nbformat": 4,
 "nbformat_minor": 5
}
